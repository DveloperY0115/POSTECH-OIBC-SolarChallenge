{
 "cells": [
  {
   "cell_type": "code",
   "execution_count": 6,
   "metadata": {
    "colab": {
     "base_uri": "https://localhost:8080/",
     "height": 52
    },
    "colab_type": "code",
    "id": "QyvrFryjAoE5",
    "outputId": "94c33542-467e-439c-a65b-292226c603b6"
   },
   "outputs": [],
   "source": [
    "import numpy as np # linear algebra\n",
    "import pandas as pd # data processing, CSV file I/O (e.g. pd.read_csv)\n",
    "import matplotlib.pyplot as plt \n",
    "import seaborn as sns \n",
    "from scipy import stats\n",
    "from scipy.stats import norm, skew"
   ]
  },
  {
   "cell_type": "code",
   "execution_count": 7,
   "metadata": {
    "colab": {},
    "colab_type": "code",
    "id": "R_yBomVKBqdo"
   },
   "outputs": [],
   "source": [
    "# train = pd.read_csv('./Weather-Energy_rev_data.csv')\n",
    "# test = pd.read_csv('./Weather-Energy_rev_data.csv')\n",
    "# df = pd.read_csv('./Weather-Energy_rev_data.csv')\n",
    "\n",
    "train = pd.read_csv('../Data/ProductionData/Weather-Energy_rev_data.csv')\n",
    "test = pd.read_csv('../Data/ProductionData/Weather-Energy_rev_data.csv')\n",
    "df = pd.read_csv('../Data/ProductionData/Weather-Energy_rev_data.csv')"
   ]
  },
  {
   "cell_type": "code",
   "execution_count": 8,
   "metadata": {
    "colab": {
     "base_uri": "https://localhost:8080/",
     "height": 158
    },
    "colab_type": "code",
    "id": "_AdSMyx_B20R",
    "outputId": "693b965f-0566-4506-d694-807ca3ba1c68"
   },
   "outputs": [
    {
     "name": "stdout",
     "output_type": "stream",
     "text": [
      "              time  temperature  rain  wind_direction(deg)  wind_speed(m/s)  \\\n",
      "0  2019-07-01 0:00    23.271429   0.0           214.671429         1.171429   \n",
      "1  2019-07-01 0:15    23.271429   0.0           214.671429         1.171429   \n",
      "2  2019-07-01 0:30    23.200000   0.0           225.486667         1.306667   \n",
      "3  2019-07-01 0:45    23.200000   0.0           223.140000         0.646667   \n",
      "4  2019-07-01 1:00    23.200000   0.0           252.066667         1.053333   \n",
      "\n",
      "   air_pressure(hPa)  sea_pressuer(hPa)  humidity(%)  solar_radiation(MJ/m^2)  \\\n",
      "0         997.378571        1003.878571    84.457143                      0.0   \n",
      "1         997.378571        1003.878571    84.457143                      0.0   \n",
      "2         997.266667        1003.766667    84.853333                      0.0   \n",
      "3         997.200000        1003.700000    85.280000                      0.0   \n",
      "4         997.200000        1003.700000    85.560000                      0.0   \n",
      "\n",
      "   solar_energy(Sec)  energy  \n",
      "0                0.0     0.0  \n",
      "1                0.0     0.0  \n",
      "2                0.0     0.0  \n",
      "3                0.0     0.0  \n",
      "4                0.0     0.0  \n"
     ]
    }
   ],
   "source": [
    "print(train.head())"
   ]
  },
  {
   "cell_type": "code",
   "execution_count": 9,
   "metadata": {
    "colab": {
     "base_uri": "https://localhost:8080/",
     "height": 336
    },
    "colab_type": "code",
    "id": "jAo523pHB51y",
    "outputId": "4838e072-f87e-4147-b32c-771415907def",
    "scrolled": true
   },
   "outputs": [
    {
     "name": "stdout",
     "output_type": "stream",
     "text": [
      "<class 'pandas.core.frame.DataFrame'>\n",
      "RangeIndex: 35125 entries, 0 to 35124\n",
      "Data columns (total 11 columns):\n",
      "time                       35125 non-null object\n",
      "temperature                35111 non-null float64\n",
      "rain                       33595 non-null float64\n",
      "wind_direction(deg)        34844 non-null float64\n",
      "wind_speed(m/s)            35111 non-null float64\n",
      "air_pressure(hPa)          35111 non-null float64\n",
      "sea_pressuer(hPa)          35111 non-null float64\n",
      "humidity(%)                35111 non-null float64\n",
      "solar_radiation(MJ/m^2)    35125 non-null float64\n",
      "solar_energy(Sec)          35125 non-null float64\n",
      "energy                     34837 non-null float64\n",
      "dtypes: float64(10), object(1)\n",
      "memory usage: 2.9+ MB\n"
     ]
    }
   ],
   "source": [
    "train.info()"
   ]
  },
  {
   "cell_type": "code",
   "execution_count": 14,
   "metadata": {},
   "outputs": [],
   "source": [
    "train = train.dropna(axis=0)"
   ]
  },
  {
   "cell_type": "code",
   "execution_count": 15,
   "metadata": {},
   "outputs": [
    {
     "name": "stdout",
     "output_type": "stream",
     "text": [
      "<class 'pandas.core.frame.DataFrame'>\n",
      "Int64Index: 33040 entries, 0 to 35124\n",
      "Data columns (total 11 columns):\n",
      "time                       33040 non-null object\n",
      "temperature                33040 non-null float64\n",
      "rain                       33040 non-null float64\n",
      "wind_direction(deg)        33040 non-null float64\n",
      "wind_speed(m/s)            33040 non-null float64\n",
      "air_pressure(hPa)          33040 non-null float64\n",
      "sea_pressuer(hPa)          33040 non-null float64\n",
      "humidity(%)                33040 non-null float64\n",
      "solar_radiation(MJ/m^2)    33040 non-null float64\n",
      "solar_energy(Sec)          33040 non-null float64\n",
      "energy                     33040 non-null float64\n",
      "dtypes: float64(10), object(1)\n",
      "memory usage: 3.0+ MB\n"
     ]
    }
   ],
   "source": [
    "train.info()"
   ]
  },
  {
   "cell_type": "code",
   "execution_count": 16,
   "metadata": {
    "colab": {
     "base_uri": "https://localhost:8080/",
     "height": 573
    },
    "colab_type": "code",
    "id": "-zxc5sLPCJmT",
    "outputId": "8ac1bca5-c9ca-477c-bce5-fb94cfddf620"
   },
   "outputs": [
    {
     "data": {
      "image/png": "[encoded data removed]",
      "text/plain": [
       "<Figure size 432x288 with 1 Axes>"
      ]
     },
     "metadata": {
      "needs_background": "light"
     },
     "output_type": "display_data"
    },
    {
     "data": {
      "image/png": "[encoded data removed]",
      "text/plain": [
       "<Figure size 432x288 with 1 Axes>"
      ]
     },
     "metadata": {
      "needs_background": "light"
     },
     "output_type": "display_data"
    }
   ],
   "source": [
    "sns.distplot(train['energy'],fit=norm);\n",
    "\n",
    "plt.ylabel('Frequency')\n",
    "plt.title('energy distribution')\n",
    "\n",
    "#Get also the QQ-plot\n",
    "fig = plt.figure()\n",
    "res = stats.probplot(train['energy'], plot=plt)\n",
    "plt.show() "
   ]
  },
  {
   "cell_type": "code",
   "execution_count": 17,
   "metadata": {
    "colab": {
     "base_uri": "https://localhost:8080/",
     "height": 487
    },
    "colab_type": "code",
    "id": "nSVvui0sMBYt",
    "outputId": "f1677852-727f-4384-b845-61aa7acc2476"
   },
   "outputs": [
    {
     "data": {
      "image/png": "[encoded data removed]",
      "text/plain": [
       "<Figure size 2160x576 with 2 Axes>"
      ]
     },
     "metadata": {
      "needs_background": "light"
     },
     "output_type": "display_data"
    }
   ],
   "source": [
    "plt.figure(figsize=(30,8))\n",
    "sns.heatmap(train.corr(),cmap='coolwarm',annot = True)\n",
    "plt.show()"
   ]
  },
  {
   "cell_type": "code",
   "execution_count": 19,
   "metadata": {
    "colab": {},
    "colab_type": "code",
    "id": "gcnTpj-ZMMoo"
   },
   "outputs": [],
   "source": [
    "corr = train.corr()\n",
    "# drop columns with correlations less than 0.2\n",
    "corr[corr['energy']>0.2].index\n",
    "train = train[['temperature', 'wind_speed(m/s)', 'solar_radiation(MJ/m^2)',\n",
    "       'solar_energy(Sec)', 'energy']]\n",
    "test = train[['temperature','wind_speed(m/s)', 'solar_radiation(MJ/m^2)', 'solar_energy(Sec)']]\n",
    "test_ans = train[['energy']]"
   ]
  },
  {
   "cell_type": "code",
   "execution_count": 20,
   "metadata": {
    "colab": {
     "base_uri": "https://localhost:8080/",
     "height": 386
    },
    "colab_type": "code",
    "id": "pHt4G_tJM-eh",
    "outputId": "155d14b9-ee1a-4423-f23c-686a1b70831b"
   },
   "outputs": [
    {
     "data": {
      "text/plain": [
       "<seaborn.axisgrid.FacetGrid at 0x7fc530d152d0>"
      ]
     },
     "execution_count": 20,
     "metadata": {},
     "output_type": "execute_result"
    },
    {
     "data": {
      "image/png": "[encoded data removed]",
      "text/plain": [
       "<Figure size 360x360 with 1 Axes>"
      ]
     },
     "metadata": {
      "needs_background": "light"
     },
     "output_type": "display_data"
    }
   ],
   "source": [
    "sns.lmplot(x='solar_radiation(MJ/m^2)',y='energy',data=train)"
   ]
  },
  {
   "cell_type": "code",
   "execution_count": 21,
   "metadata": {
    "colab": {
     "base_uri": "https://localhost:8080/",
     "height": 197
    },
    "colab_type": "code",
    "id": "grIq_8aiNNBM",
    "outputId": "8b92494a-a31f-452d-8b94-c5d3cbd77d6b"
   },
   "outputs": [
    {
     "data": {
      "text/html": [
       "<div>\n",
       "<style scoped>\n",
       "    .dataframe tbody tr th:only-of-type {\n",
       "        vertical-align: middle;\n",
       "    }\n",
       "\n",
       "    .dataframe tbody tr th {\n",
       "        vertical-align: top;\n",
       "    }\n",
       "\n",
       "    .dataframe thead th {\n",
       "        text-align: right;\n",
       "    }\n",
       "</style>\n",
       "<table border=\"1\" class=\"dataframe\">\n",
       "  <thead>\n",
       "    <tr style=\"text-align: right;\">\n",
       "      <th></th>\n",
       "      <th>Total</th>\n",
       "      <th>Percent</th>\n",
       "    </tr>\n",
       "  </thead>\n",
       "  <tbody>\n",
       "    <tr>\n",
       "      <td>energy</td>\n",
       "      <td>0</td>\n",
       "      <td>0.0</td>\n",
       "    </tr>\n",
       "    <tr>\n",
       "      <td>solar_energy(Sec)</td>\n",
       "      <td>0</td>\n",
       "      <td>0.0</td>\n",
       "    </tr>\n",
       "    <tr>\n",
       "      <td>solar_radiation(MJ/m^2)</td>\n",
       "      <td>0</td>\n",
       "      <td>0.0</td>\n",
       "    </tr>\n",
       "    <tr>\n",
       "      <td>wind_speed(m/s)</td>\n",
       "      <td>0</td>\n",
       "      <td>0.0</td>\n",
       "    </tr>\n",
       "    <tr>\n",
       "      <td>temperature</td>\n",
       "      <td>0</td>\n",
       "      <td>0.0</td>\n",
       "    </tr>\n",
       "  </tbody>\n",
       "</table>\n",
       "</div>"
      ],
      "text/plain": [
       "                         Total  Percent\n",
       "energy                       0      0.0\n",
       "solar_energy(Sec)            0      0.0\n",
       "solar_radiation(MJ/m^2)      0      0.0\n",
       "wind_speed(m/s)              0      0.0\n",
       "temperature                  0      0.0"
      ]
     },
     "execution_count": 21,
     "metadata": {},
     "output_type": "execute_result"
    }
   ],
   "source": [
    "total = train.isnull().sum().sort_values(ascending=False)\n",
    "percent = (train.isnull().sum()/train.isnull().count()).sort_values(ascending=False)\n",
    "missing_data = pd.concat([total, percent], axis=1, keys=['Total', 'Percent'])\n",
    "missing_data.head(25)"
   ]
  },
  {
   "cell_type": "markdown",
   "metadata": {
    "colab_type": "text",
    "id": "vSlxLJ39Pkvl"
   },
   "source": []
  },
  {
   "cell_type": "code",
   "execution_count": 22,
   "metadata": {
    "colab": {
     "base_uri": "https://localhost:8080/",
     "height": 123
    },
    "colab_type": "code",
    "id": "Myc_Uk8QNlBC",
    "outputId": "36e53307-c54d-4f1e-9e5e-b636ff560cab"
   },
   "outputs": [
    {
     "data": {
      "text/plain": [
       "energy                     0\n",
       "solar_energy(Sec)          0\n",
       "solar_radiation(MJ/m^2)    0\n",
       "wind_speed(m/s)            0\n",
       "temperature                0\n",
       "dtype: int64"
      ]
     },
     "execution_count": 22,
     "metadata": {},
     "output_type": "execute_result"
    }
   ],
   "source": [
    "train.isnull().sum().sort_values(ascending=False).head(20)"
   ]
  },
  {
   "cell_type": "code",
   "execution_count": 23,
   "metadata": {
    "colab": {},
    "colab_type": "code",
    "id": "RPOBTRftNwsF"
   },
   "outputs": [],
   "source": [
    "train['wind_speed(m/s)']=train['wind_speed(m/s)'].fillna(method='bfill')\n",
    "train['temperature']=train['temperature'].fillna(method='bfill')\n",
    "train=train.dropna(axis=0)"
   ]
  },
  {
   "cell_type": "code",
   "execution_count": 24,
   "metadata": {
    "colab": {
     "base_uri": "https://localhost:8080/",
     "height": 123
    },
    "colab_type": "code",
    "id": "H5HAEDVOSWr2",
    "outputId": "75970e23-4203-4209-967b-8c14fcac3803"
   },
   "outputs": [
    {
     "data": {
      "text/plain": [
       "energy                     0\n",
       "solar_energy(Sec)          0\n",
       "solar_radiation(MJ/m^2)    0\n",
       "wind_speed(m/s)            0\n",
       "temperature                0\n",
       "dtype: int64"
      ]
     },
     "execution_count": 24,
     "metadata": {},
     "output_type": "execute_result"
    }
   ],
   "source": [
    "train.isnull().sum().sort_values(ascending=False).head(20)"
   ]
  },
  {
   "cell_type": "code",
   "execution_count": 25,
   "metadata": {
    "colab": {
     "base_uri": "https://localhost:8080/",
     "height": 167
    },
    "colab_type": "code",
    "id": "3STdk6OgbZWe",
    "outputId": "ae4cfb41-e478-47df-f671-eae2ee2bf2a9"
   },
   "outputs": [
    {
     "data": {
      "text/html": [
       "<div>\n",
       "<style scoped>\n",
       "    .dataframe tbody tr th:only-of-type {\n",
       "        vertical-align: middle;\n",
       "    }\n",
       "\n",
       "    .dataframe tbody tr th {\n",
       "        vertical-align: top;\n",
       "    }\n",
       "\n",
       "    .dataframe thead th {\n",
       "        text-align: right;\n",
       "    }\n",
       "</style>\n",
       "<table border=\"1\" class=\"dataframe\">\n",
       "  <thead>\n",
       "    <tr style=\"text-align: right;\">\n",
       "      <th></th>\n",
       "      <th>Total</th>\n",
       "      <th>Percent</th>\n",
       "    </tr>\n",
       "  </thead>\n",
       "  <tbody>\n",
       "    <tr>\n",
       "      <td>solar_energy(Sec)</td>\n",
       "      <td>0</td>\n",
       "      <td>0.0</td>\n",
       "    </tr>\n",
       "    <tr>\n",
       "      <td>solar_radiation(MJ/m^2)</td>\n",
       "      <td>0</td>\n",
       "      <td>0.0</td>\n",
       "    </tr>\n",
       "    <tr>\n",
       "      <td>wind_speed(m/s)</td>\n",
       "      <td>0</td>\n",
       "      <td>0.0</td>\n",
       "    </tr>\n",
       "    <tr>\n",
       "      <td>temperature</td>\n",
       "      <td>0</td>\n",
       "      <td>0.0</td>\n",
       "    </tr>\n",
       "  </tbody>\n",
       "</table>\n",
       "</div>"
      ],
      "text/plain": [
       "                         Total  Percent\n",
       "solar_energy(Sec)            0      0.0\n",
       "solar_radiation(MJ/m^2)      0      0.0\n",
       "wind_speed(m/s)              0      0.0\n",
       "temperature                  0      0.0"
      ]
     },
     "execution_count": 25,
     "metadata": {},
     "output_type": "execute_result"
    }
   ],
   "source": [
    "total = test.isnull().sum().sort_values(ascending=False)\n",
    "percent = (test.isnull().sum()/test.isnull().count()).sort_values(ascending=False)\n",
    "missing_data = pd.concat([total, percent], axis=1, keys=['Total', 'Percent'])\n",
    "missing_data.head(25)"
   ]
  },
  {
   "cell_type": "code",
   "execution_count": 26,
   "metadata": {
    "colab": {
     "base_uri": "https://localhost:8080/",
     "height": 367
    },
    "colab_type": "code",
    "id": "vG28UW2S_Xs0",
    "outputId": "41e31b5b-3c4a-44bf-e9a2-cea96446a2c3"
   },
   "outputs": [
    {
     "name": "stdout",
     "output_type": "stream",
     "text": [
      "Before >  Mean: 4.386914, Standard Deviation: 6.814314\n"
     ]
    },
    {
     "data": {
      "image/png": "[encoded data removed]",
      "text/plain": [
       "<Figure size 720x360 with 2 Axes>"
      ]
     },
     "metadata": {
      "needs_background": "light"
     },
     "output_type": "display_data"
    }
   ],
   "source": [
    "fig, ax= plt.subplots(1,2, figsize = (10,5))\n",
    "print(\"Before >  Mean: %f, Standard Deviation: %f\" %norm.fit(train['energy']))\n",
    "sns.distplot(train['energy'], ax = ax[0])\n",
    "stats.probplot(train['energy'], plot=ax[1])\n",
    "plt.show()"
   ]
  },
  {
   "cell_type": "code",
   "execution_count": null,
   "metadata": {
    "colab": {},
    "colab_type": "code",
    "id": "Bt2Isg-kbyh0"
   },
   "outputs": [],
   "source": [
    "test['wind_speed(m/s)']=test['wind_speed(m/s)'].fillna(method='bfill')"
   ]
  },
  {
   "cell_type": "code",
   "execution_count": null,
   "metadata": {
    "colab": {
     "base_uri": "https://localhost:8080/",
     "height": 647
    },
    "colab_type": "code",
    "id": "S_bcnw8dPUdC",
    "outputId": "be1485c5-48cd-4443-8451-c122ef8b530c"
   },
   "outputs": [],
   "source": [
    "k = 15 #number of variables for heatmap\n",
    "plt.figure(figsize=(16,8))\n",
    "corrmat = train.corr()\n",
    "# picking the top 15 correlated features\n",
    "cols = corrmat.nlargest(k, 'energy')['energy'].index\n",
    "cm = np.corrcoef(train[cols].values.T)\n",
    "sns.set(font_scale=1.25)\n",
    "hm = sns.heatmap(cm, cbar=True, annot=True, square=True, fmt='.2f', annot_kws={'size': 10}, yticklabels=cols.values, xticklabels=cols.values)\n",
    "plt.show()"
   ]
  },
  {
   "cell_type": "code",
   "execution_count": null,
   "metadata": {
    "colab": {},
    "colab_type": "code",
    "id": "qkQcrb0PQsfI"
   },
   "outputs": [],
   "source": [
    "from sklearn.model_selection import train_test_split\n",
    "X_train, X_test, y_train, y_test = train_test_split(train.drop('energy', axis=1), train['energy'], test_size=0.3, random_state=101)\n",
    "\n",
    "# we are going to scale to data\n",
    "\n",
    "y_train= y_train.values.reshape(-1,1)\n",
    "y_test= y_test.values.reshape(-1,1)\n",
    "\n",
    "from sklearn.preprocessing import StandardScaler\n",
    "sc_X = StandardScaler()\n",
    "sc_y = StandardScaler()\n",
    "X_train = sc_X.fit_transform(X_train)\n",
    "X_test = sc_X.fit_transform(X_test)\n",
    "y_train = sc_X.fit_transform(y_train)\n",
    "y_test = sc_y.fit_transform(y_test)\n"
   ]
  },
  {
   "cell_type": "code",
   "execution_count": null,
   "metadata": {
    "colab": {
     "base_uri": "https://localhost:8080/",
     "height": 34
    },
    "colab_type": "code",
    "id": "GXgcU6Mpg06Q",
    "outputId": "9199c909-25b8-4723-a572-6f1bcc654ef7"
   },
   "outputs": [],
   "source": [
    "X_test.shape"
   ]
  },
  {
   "cell_type": "code",
   "execution_count": null,
   "metadata": {
    "colab": {},
    "colab_type": "code",
    "id": "-ei3vJLvR_a2"
   },
   "outputs": [],
   "source": [
    "# Linear Regression\n",
    "from sklearn.linear_model import LinearRegression\n",
    "lm = LinearRegression()\n",
    "lm.fit(X_train,y_train)\n",
    "\n",
    "predictions = lm.predict(X_test)\n",
    "predictions= predictions.reshape(-1,1)"
   ]
  },
  {
   "cell_type": "code",
   "execution_count": null,
   "metadata": {
    "colab": {},
    "colab_type": "code",
    "id": "SyfYiLpPSqV-"
   },
   "outputs": [],
   "source": [
    "from sklearn import metrics\n",
    "\n",
    "def show_predict(y_test,predictions):\n",
    "    plt.figure(figsize=(15,8))\n",
    "    plt.scatter(y_test,predictions)\n",
    "    plt.xlabel('Y Test')\n",
    "    plt.ylabel('Predicted Y')\n",
    "    plt.show()\n",
    "\n",
    "    plt.figure(figsize=(32,16))\n",
    "    plt.plot(y_test,label ='Test')\n",
    "    plt.plot(predictions, label = 'predict')\n",
    "    plt.show()\n",
    "\n",
    "def show_errors(y_test,predictions):\n",
    "    print('MAE:', metrics.mean_absolute_error(y_test, predictions))\n",
    "    print('MSE:', metrics.mean_squared_error(y_test, predictions))\n",
    "    print('RMSE:', np.sqrt(metrics.mean_squared_error(y_test, predictions)))"
   ]
  },
  {
   "cell_type": "code",
   "execution_count": null,
   "metadata": {
    "colab": {
     "base_uri": "https://localhost:8080/",
     "height": 72
    },
    "colab_type": "code",
    "id": "q2xD6aXDTHuK",
    "outputId": "47ca078e-a40e-4d58-d05e-f72528691b4a"
   },
   "outputs": [],
   "source": [
    "# Gradient Boosting Regression\n",
    "from sklearn import ensemble\n",
    "from sklearn.utils import shuffle\n",
    "from sklearn.metrics import mean_squared_error, r2_score\n",
    "\n",
    "params = {'n_estimators': 100, 'max_depth': 4, 'min_samples_split': 2,\n",
    "          'learning_rate': 0.05, 'loss': 'ls'}\n",
    "clf = ensemble.GradientBoostingRegressor(**params)\n",
    "\n",
    "clf.fit(X_train, y_train)\n",
    "\n",
    "clf_pred=clf.predict(X_test)\n",
    "clf_pred= clf_pred.reshape(-1,1)"
   ]
  },
  {
   "cell_type": "code",
   "execution_count": null,
   "metadata": {
    "colab": {},
    "colab_type": "code",
    "id": "_tojvYMfWZvl"
   },
   "outputs": [],
   "source": [
    "# Decision Tree Regressor\n",
    "from sklearn.tree import DecisionTreeRegressor\n",
    "dtreg = DecisionTreeRegressor(random_state = 100)\n",
    "dtreg.fit(X_train, y_train)\n",
    "\n",
    "dtr_pred = dtreg.predict(X_test)\n",
    "dtr_pred= dtr_pred.reshape(-1,1)"
   ]
  },
  {
   "cell_type": "code",
   "execution_count": null,
   "metadata": {
    "colab": {
     "base_uri": "https://localhost:8080/",
     "height": 72
    },
    "colab_type": "code",
    "id": "mhLhHxxAXDBG",
    "outputId": "86aa6a9b-eae0-4ca9-aea3-982c72a94563"
   },
   "outputs": [],
   "source": [
    "# Support Vecotr Machine Regression\n",
    "from sklearn.svm import SVR\n",
    "svr = SVR(kernel = 'rbf')\n",
    "svr.fit(X_train, y_train)\n",
    "\n",
    "svr_pred = svr.predict(X_test)\n",
    "svr_pred= svr_pred.reshape(-1,1)"
   ]
  },
  {
   "cell_type": "code",
   "execution_count": null,
   "metadata": {
    "colab": {
     "base_uri": "https://localhost:8080/",
     "height": 52
    },
    "colab_type": "code",
    "id": "kfXZLcV9Xxbs",
    "outputId": "d6a7eb87-9883-4ef2-bef5-85098e2faccb"
   },
   "outputs": [],
   "source": [
    "# Random Forest Regression\n",
    "from sklearn.ensemble import RandomForestRegressor\n",
    "rfr = RandomForestRegressor(n_estimators = 100, random_state = 0)\n",
    "rfr.fit(X_train, y_train)\n",
    "\n",
    "rfr_pred= rfr.predict(X_test)\n",
    "rfr_pred = rfr_pred.reshape(-1,1)"
   ]
  },
  {
   "cell_type": "code",
   "execution_count": null,
   "metadata": {
    "colab": {},
    "colab_type": "code",
    "id": "B-WizpuMYA3y"
   },
   "outputs": [],
   "source": [
    "# Light GBM\n",
    "import lightgbm as lgb\n",
    "model_lgb = lgb.LGBMRegressor(objective='regression',num_leaves=5,\n",
    "                              learning_rate=0.1, n_estimators=500,\n",
    "                              max_bin = 55, bagging_fraction = 0.8,\n",
    "                              bagging_freq = 5, feature_fraction = 0.2319,\n",
    "                              feature_fraction_seed=9, bagging_seed=9,\n",
    "                              min_data_in_leaf =6, min_sum_hessian_in_leaf = 11)"
   ]
  },
  {
   "cell_type": "code",
   "execution_count": null,
   "metadata": {
    "colab": {
     "base_uri": "https://localhost:8080/",
     "height": 72
    },
    "colab_type": "code",
    "id": "gNJEkMs7YHdU",
    "outputId": "0d9e2a5f-a235-4704-d485-ce6035622600"
   },
   "outputs": [],
   "source": [
    "model_lgb.fit(X_train,y_train)\n",
    "\n",
    "lgb_pred = model_lgb.predict(X_test)\n",
    "lgb_pred = lgb_pred.reshape(-1,1)"
   ]
  },
  {
   "cell_type": "code",
   "execution_count": null,
   "metadata": {
    "colab": {},
    "colab_type": "code",
    "id": "ZvwrXAKwcYTW"
   },
   "outputs": [],
   "source": [
    "start = df[df['time']==\"2020-05-31 0:00\"].index.tolist()[0]\n",
    "end = df[df['time']==\"2020-05-31 23:45\"].index.tolist()[0]"
   ]
  },
  {
   "cell_type": "code",
   "execution_count": null,
   "metadata": {
    "colab": {},
    "colab_type": "code",
    "id": "wYprVKtReXFN"
   },
   "outputs": [],
   "source": [
    "test1 = test[start:end]\n",
    "test1 = sc_X.fit_transform(test1)"
   ]
  },
  {
   "cell_type": "code",
   "execution_count": null,
   "metadata": {
    "colab": {},
    "colab_type": "code",
    "id": "M-StqFcLfNpH"
   },
   "outputs": [],
   "source": [
    "test_predictions = lm.predict(test1)\n",
    "test_predictions= test_predictions.reshape(-1,1)\n",
    "test_predictions =sc_y.inverse_transform(test_predictions)\n",
    "\n",
    "test_clf_pred=clf.predict(test1)\n",
    "test_clf_pred= test_clf_pred.reshape(-1,1)\n",
    "test_clf_pred=sc_y.inverse_transform(test_clf_pred)\n",
    "\n",
    "test_dtr_pred = dtreg.predict(test1)\n",
    "test_dtr_pred= test_dtr_pred.reshape(-1,1)\n",
    "test_dtr_pred=sc_y.inverse_transform(test_dtr_pred)\n",
    "\n",
    "test_rfr_pred= rfr.predict(test1)\n",
    "test_rfr_pred = test_rfr_pred.reshape(-1,1)\n",
    "test_rfr_pred=sc_y.inverse_transform(test_rfr_pred)\n",
    "\n",
    "test_lgb_pred = model_lgb.predict(test1)\n",
    "test_lgb_pred = test_lgb_pred.reshape(-1,1)\n",
    "test_lgb_pred=sc_y.inverse_transform(test_lgb_pred)\n",
    "\n",
    "final_predictions = (test_predictions+test_clf_pred+test_dtr_pred+test_rfr_pred)/4\n"
   ]
  },
  {
   "cell_type": "code",
   "execution_count": null,
   "metadata": {
    "colab": {
     "base_uri": "https://localhost:8080/",
     "height": 290
    },
    "colab_type": "code",
    "id": "iqeOljzohYDM",
    "outputId": "3d1a0751-aa28-4077-fd93-d8e992a11a4d"
   },
   "outputs": [],
   "source": [
    "plt.title(\"Linear Regression\")\n",
    "plt.plot(test_predictions)\n",
    "plt.show()"
   ]
  },
  {
   "cell_type": "code",
   "execution_count": null,
   "metadata": {
    "colab": {
     "base_uri": "https://localhost:8080/",
     "height": 290
    },
    "colab_type": "code",
    "id": "ekvBNMkLn13n",
    "outputId": "c8be89a4-02b5-464b-bfae-6bc9cd0b6be3"
   },
   "outputs": [],
   "source": [
    "plt.title(\"Gradient Boosting Regression\")\n",
    "plt.plot(test_clf_pred)\n",
    "plt.show()"
   ]
  },
  {
   "cell_type": "code",
   "execution_count": null,
   "metadata": {
    "colab": {
     "base_uri": "https://localhost:8080/",
     "height": 290
    },
    "colab_type": "code",
    "id": "8ky84eiLoPDg",
    "outputId": "b7bfce98-4eaa-4fe3-95b1-87636c03a565"
   },
   "outputs": [],
   "source": [
    "plt.title(\"Decision Tree Regression\")\n",
    "plt.plot(test_dtr_pred)\n",
    "plt.show()"
   ]
  },
  {
   "cell_type": "code",
   "execution_count": null,
   "metadata": {
    "colab": {
     "base_uri": "https://localhost:8080/",
     "height": 290
    },
    "colab_type": "code",
    "id": "cqWZrAS2oUBS",
    "outputId": "e540a480-0145-4685-b3c6-c87ab73239e3"
   },
   "outputs": [],
   "source": [
    "plt.title(\"Support Vector Machine Regression\")\n",
    "plt.plot(test_rfr_pred)\n",
    "plt.show()"
   ]
  },
  {
   "cell_type": "code",
   "execution_count": null,
   "metadata": {
    "colab": {
     "base_uri": "https://localhost:8080/",
     "height": 290
    },
    "colab_type": "code",
    "id": "0L9xUU8SoUZn",
    "outputId": "114700ea-3734-482b-c4f2-6fdae23586e4"
   },
   "outputs": [],
   "source": [
    "plt.title(\"Light GBM\")\n",
    "plt.plot(test_lgb_pred)\n",
    "plt.show()"
   ]
  },
  {
   "cell_type": "code",
   "execution_count": null,
   "metadata": {
    "colab": {
     "base_uri": "https://localhost:8080/",
     "height": 290
    },
    "colab_type": "code",
    "id": "bZ_jQjK_j060",
    "outputId": "60484f0e-f992-4544-d7f7-e26f180ab197"
   },
   "outputs": [],
   "source": [
    "plt.title(\"Final\")\n",
    "plt.plot(final_predictions)\n",
    "plt.show()"
   ]
  },
  {
   "cell_type": "code",
   "execution_count": null,
   "metadata": {
    "colab": {},
    "colab_type": "code",
    "id": "bE3PgaFDkHvU"
   },
   "outputs": [],
   "source": [
    "final_data=[]\n",
    "\n",
    "\n",
    "for i in range(0, len(final_predictions)-3, 4):\n",
    "    final_data.append(final_predictions[i:i+4].sum())\n",
    "\n",
    "final_data.append(0)\n"
   ]
  },
  {
   "cell_type": "code",
   "execution_count": null,
   "metadata": {
    "colab": {
     "base_uri": "https://localhost:8080/",
     "height": 443
    },
    "colab_type": "code",
    "id": "wX9OF8nJmBAm",
    "outputId": "9168455e-618e-4e04-86b0-ae4cf1a9e376"
   },
   "outputs": [],
   "source": [
    "len(final_data)\n",
    "final_data"
   ]
  }
 ],
 "metadata": {
  "colab": {
   "name": "solar energy regression.ipynb",
   "provenance": []
  },
  "kernelspec": {
   "display_name": "Python 3",
   "language": "python",
   "name": "python3"
  },
  "language_info": {
   "codemirror_mode": {
    "name": "ipython",
    "version": 3
   },
   "file_extension": ".py",
   "mimetype": "text/x-python",
   "name": "python",
   "nbconvert_exporter": "python",
   "pygments_lexer": "ipython3",
   "version": "3.7.4"
  }
 },
 "nbformat": 4,
 "nbformat_minor": 1
}
